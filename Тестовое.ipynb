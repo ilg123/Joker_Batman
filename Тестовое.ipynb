{
  "nbformat": 4,
  "nbformat_minor": 0,
  "metadata": {
    "colab": {
      "provenance": [],
      "authorship_tag": "ABX9TyMdp35AODDEZMvM/GKcMqZa"
    },
    "kernelspec": {
      "name": "python3",
      "display_name": "Python 3"
    },
    "language_info": {
      "name": "python"
    }
  },
  "cells": [
    {
      "cell_type": "markdown",
      "source": [
        "> **Установка необходимых библиотек**\n",
        "\n",
        "Эти команды устанавливают программы, которые помогут нам анализировать и генерировать текст, а также хранить важные данные в безопасности."
      ],
      "metadata": {
        "id": "NPKm9ZkXlRI3"
      }
    },
    {
      "cell_type": "code",
      "execution_count": null,
      "metadata": {
        "id": "18sa-JGZkf2H"
      },
      "outputs": [],
      "source": [
        "!pip install openai TextBlob python-dotenv"
      ]
    },
    {
      "cell_type": "markdown",
      "source": [
        "**Т.к. TextBlob некорректно работает с русским языком нужно установить переводчик**"
      ],
      "metadata": {
        "id": "gKETF78g_RbU"
      }
    },
    {
      "cell_type": "code",
      "source": [
        "!pip install translate"
      ],
      "metadata": {
        "id": "eor3BWef94Hr"
      },
      "execution_count": null,
      "outputs": []
    },
    {
      "cell_type": "markdown",
      "source": [
        "> **Этот код подключает ваш Google Диск к рабочей среде Google Colab.**\n",
        "\n",
        "После выполнения этих команд у вас появится доступ к файлам на вашем Google Диске прямо из Google Colab. Это нужно для того чтобы подтянуть ваш OpenAI API Key. Что-бы все работало коректно добвьте .env-файл(пример OPENAI_API_KEY =\"Ваш API ключ\") на ваш диск\n"
      ],
      "metadata": {
        "id": "5ZJX3vQ_mQMx"
      }
    },
    {
      "cell_type": "code",
      "source": [
        "from google.colab import drive\n",
        "\n",
        "drive.mount('/content/drive')"
      ],
      "metadata": {
        "colab": {
          "base_uri": "https://localhost:8080/"
        },
        "id": "Tcr7F1jNl8Ah",
        "outputId": "cfc5cb55-76c6-48f8-8e32-87bdaa260fcc"
      },
      "execution_count": null,
      "outputs": [
        {
          "output_type": "stream",
          "name": "stdout",
          "text": [
            "Mounted at /content/drive\n"
          ]
        }
      ]
    },
    {
      "cell_type": "markdown",
      "source": [
        "**Этот код импротирует, загружает .env файл**\n"
      ],
      "metadata": {
        "id": "PcTxFYRkmvL3"
      }
    },
    {
      "cell_type": "code",
      "source": [
        "import os\n",
        "from openai import OpenAI\n",
        "from dotenv import load_dotenv\n",
        "from textblob import TextBlob\n",
        "from translate import Translator\n",
        "\n",
        "load_dotenv('/content/drive/MyDrive/.env')\n",
        "\n",
        "client = OpenAI(api_key = os.environ.get('OPENAI_API_KEY'))"
      ],
      "metadata": {
        "id": "EHDOqef6krkk"
      },
      "execution_count": null,
      "outputs": []
    },
    {
      "cell_type": "markdown",
      "source": [
        "**Это основной код который анализирует текст пользователя, генерирует ответ в зависимости от того позитивный текст или негативный**\n",
        "\n",
        "т.к. TextBlob некорректно работает с русским языком приходится переводить текст на английский  \n",
        "\n",
        "**ТЕКСТ МОЖЕТ БЫТЬ НЕККОРЕТНЫМ Т.К. ПРОШЕЛ ЧЕРЕЗ ПЕРЕВОДЧИК**"
      ],
      "metadata": {
        "id": "KCsRpyi3t2xM"
      }
    },
    {
      "cell_type": "code",
      "source": [
        "def analyze_sentiment(text):\n",
        "    blob = TextBlob(text)\n",
        "    sentiment = blob.sentiment.polarity\n",
        "    if sentiment > 0:\n",
        "        return \"positive\"\n",
        "    else:\n",
        "        return \"negative\"\n",
        "\n",
        "def generate_response(prompt, character):\n",
        "    if character == 'Batman':\n",
        "        persona = \"Respond as Batman from the DC Comics, using a serious and heroic tone.\"\n",
        "    elif character == 'Joker':\n",
        "        persona = \"Respond as Joker from the DC Comics, using a chaotic and mischievous tone.\"\n",
        "    chat_completion = client.chat.completions.create(\n",
        "    messages=[\n",
        "        {\"role\": \"system\", \"content\": persona},\n",
        "        { \"role\": \"user\", \"content\": prompt,}\n",
        "    ],\n",
        "    model=\"gpt-3.5-turbo\",)\n",
        "    return chat_completion.choices[0].message.content\n",
        "\n",
        "def chatbot(questions):\n",
        "    if questions == None:\n",
        "        history = []\n",
        "        translator_ru_to_en = Translator(from_lang='ru', to_lang='en')\n",
        "        translator_en_to_ru = Translator(from_lang='en', to_lang='ru')\n",
        "        while True:\n",
        "            user_input = translator_ru_to_en.translate(input('Ваше предложение: '))\n",
        "            if user_input.lower() == \"serving\":\n",
        "                print(\"Конец чата\")\n",
        "                break\n",
        "            if len(history) < 1:\n",
        "                sentiment = analyze_sentiment(user_input)\n",
        "                character = 'Batman' if sentiment == 'positive' else 'Joker'\n",
        "\n",
        "            response = generate_response(user_input, character)\n",
        "            print(translator_en_to_ru.translate(f\"{character}: {response}\"))\n",
        "\n",
        "            history.append((user_input, response))\n",
        "\n",
        "            if character == 'joker':\n",
        "                next_question_prompt = \"Ask question like Joker\"\n",
        "            else:\n",
        "                next_question_prompt = \"Ask question like Batman\"\n",
        "\n",
        "            next_question = generate_response(next_question_prompt, character)\n",
        "            print(translator_en_to_ru.translate(f\"{character}: {next_question}\"))\n",
        "\n",
        "            history.append((None, next_question))\n",
        "\n",
        "            print(\"\\nИстория чата:\")\n",
        "            print('Для прекращения чата напишите \"Выход\"')\n",
        "            for i, (user_msg, bot_msg) in enumerate(history):\n",
        "                if user_msg:\n",
        "                    print(f\"{i+1}. Вы: {translator_en_to_ru.translate(user_msg)}\")\n",
        "                if bot_msg:\n",
        "                    print(f\"{i+1}. {character}: {translator_en_to_ru.translate(bot_msg)}\")\n",
        "    else:\n",
        "        for i, test_text in enumerate(questions):\n",
        "            sentiment = analyze_sentiment(test_text)\n",
        "            if sentiment == 'positive':\n",
        "                character = \"Batman\"\n",
        "            else:\n",
        "                character = \"Joker\"\n",
        "            response = generate_response(test_text, character)\n",
        "            print(f'Test№{i+1}')\n",
        "            print(f'Text: {test_text}')\n",
        "            print(f'Answer: {character}: {response}')"
      ],
      "metadata": {
        "id": "et1x8_wkjh2_"
      },
      "execution_count": 61,
      "outputs": []
    },
    {
      "cell_type": "markdown",
      "source": [
        "**Запуск бота**"
      ],
      "metadata": {
        "id": "LXdl7lJE_ts9"
      }
    },
    {
      "cell_type": "code",
      "source": [
        "chatbot(questions=None)"
      ],
      "metadata": {
        "id": "uYVkWh37uglS"
      },
      "execution_count": null,
      "outputs": []
    },
    {
      "cell_type": "markdown",
      "source": [
        "**Тесты**\n",
        "\n",
        "Я их сразу на английском написал)"
      ],
      "metadata": {
        "id": "2LbTjNBe_9ta"
      }
    },
    {
      "cell_type": "code",
      "source": [
        "test_queries = [\n",
        "    \"We all know Batman's always trying to do the right thing, even with everything he's been through.\",\n",
        "    \"That Joker guy has this crazy charm and knows how to get into people's heads.\",\n",
        "    \"Whenever Batman and the Joker face off, it feels like the whole city is on edge.\",\n",
        "    \"Batman has all these cool gadgets and resources to tackle crime.\",\n",
        "    \"The Joker will do just about anything to get what he wants, which makes him so unpredictable.\",\n",
        "    \"Every time the Joker shows up, it seems like Gotham ends up in chaos.\",\n",
        "    \"Sometimes it feels like Batman gets so fixated on his mission that he forgets other important stuff.\",\n",
        "    \"The Joker has this way of twisting people’s fears to get what he wants.\",\n",
        "    \"It’s like the Joker knows just how to push Batman’s buttons and make him lose it.\",\n",
        "    \"No matter how hard Batman tries, it feels like the Joker always manages to slip away without getting caught.\"\n",
        "]\n",
        "\n",
        "chatbot(test_queries)"
      ],
      "metadata": {
        "id": "-V8_3JpEjyk8"
      },
      "execution_count": null,
      "outputs": []
    }
  ]
}